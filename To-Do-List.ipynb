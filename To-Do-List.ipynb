{
 "cells": [
  {
   "cell_type": "markdown",
   "id": "b7c4ea73-c674-4302-ae34-2897fa2c5171",
   "metadata": {},
   "source": [
    "TO-DO-LIST"
   ]
  },
  {
   "cell_type": "code",
   "execution_count": 1,
   "id": "fd585fa3-23a5-4fe9-8890-2eb13777cbda",
   "metadata": {},
   "outputs": [
    {
     "name": "stdout",
     "output_type": "stream",
     "text": [
      "\n",
      "To-Do List\n",
      "1. Add Task\n",
      "2. View Tasks\n",
      "3. Delete Task\n",
      "4. Mark Task as Completed\n",
      "5. Exit\n"
     ]
    },
    {
     "name": "stdin",
     "output_type": "stream",
     "text": [
      "Enter your choice:  1\n",
      "Enter the task:  Add Task\n"
     ]
    },
    {
     "name": "stdout",
     "output_type": "stream",
     "text": [
      "Task added successfully.\n",
      "\n",
      "To-Do List\n",
      "1. Add Task\n",
      "2. View Tasks\n",
      "3. Delete Task\n",
      "4. Mark Task as Completed\n",
      "5. Exit\n"
     ]
    },
    {
     "name": "stdin",
     "output_type": "stream",
     "text": [
      "Enter your choice:  4\n"
     ]
    },
    {
     "name": "stdout",
     "output_type": "stream",
     "text": [
      "1. Add Task [Pending]\n"
     ]
    },
    {
     "name": "stdin",
     "output_type": "stream",
     "text": [
      "Enter task number to mark as completed:  Add Task\n"
     ]
    },
    {
     "name": "stdout",
     "output_type": "stream",
     "text": [
      "Please enter a valid number.\n",
      "\n",
      "To-Do List\n",
      "1. Add Task\n",
      "2. View Tasks\n",
      "3. Delete Task\n",
      "4. Mark Task as Completed\n",
      "5. Exit\n"
     ]
    },
    {
     "name": "stdin",
     "output_type": "stream",
     "text": [
      "Enter your choice:  5\n"
     ]
    },
    {
     "name": "stdout",
     "output_type": "stream",
     "text": [
      "Exiting To-Do List.\n"
     ]
    },
    {
     "ename": "SystemExit",
     "evalue": "",
     "output_type": "error",
     "traceback": [
      "An exception has occurred, use %tb to see the full traceback.\n",
      "\u001b[1;31mSystemExit\u001b[0m\n"
     ]
    },
    {
     "name": "stderr",
     "output_type": "stream",
     "text": [
      "C:\\Users\\Shraddha\\AppData\\Local\\Programs\\Python\\Python313\\Lib\\site-packages\\IPython\\core\\interactiveshell.py:3585: UserWarning: To exit: use 'exit', 'quit', or Ctrl-D.\n",
      "  warn(\"To exit: use 'exit', 'quit', or Ctrl-D.\", stacklevel=1)\n"
     ]
    }
   ],
   "source": [
    "import sys\n",
    "\n",
    "def display_menu():\n",
    "    print(\"\\nTo-Do List\")\n",
    "    print(\"1. Add Task\")\n",
    "    print(\"2. View Tasks\")\n",
    "    print(\"3. Delete Task\")\n",
    "    print(\"4. Mark Task as Completed\")\n",
    "    print(\"5. Exit\")\n",
    "\n",
    "def add_task(tasks):\n",
    "    task = input(\"Enter the task: \")\n",
    "    tasks.append({\"task\": task, \"completed\": False})\n",
    "    print(\"Task added successfully.\")\n",
    "\n",
    "def view_tasks(tasks):\n",
    "    if not tasks:\n",
    "        print(\"No tasks available.\")\n",
    "    else:\n",
    "        for idx, task in enumerate(tasks, start=1):\n",
    "            status = \"[Completed]\" if task[\"completed\"] else \"[Pending]\"\n",
    "            print(f\"{idx}. {task['task']} {status}\")\n",
    "\n",
    "def delete_task(tasks):\n",
    "    view_tasks(tasks)\n",
    "    try:\n",
    "        task_index = int(input(\"Enter task number to delete: \")) - 1\n",
    "        if 0 <= task_index < len(tasks):\n",
    "            tasks.pop(task_index)\n",
    "            print(\"Task deleted successfully.\")\n",
    "        else:\n",
    "            print(\"Invalid task number.\")\n",
    "    except ValueError:\n",
    "        print(\"Please enter a valid number.\")\n",
    "\n",
    "def mark_task_completed(tasks):\n",
    "    view_tasks(tasks)\n",
    "    try:\n",
    "        task_index = int(input(\"Enter task number to mark as completed: \")) - 1\n",
    "        if 0 <= task_index < len(tasks):\n",
    "            tasks[task_index][\"completed\"] = True\n",
    "            print(\"Task marked as completed.\")\n",
    "        else:\n",
    "            print(\"Invalid task number.\")\n",
    "    except ValueError:\n",
    "        print(\"Please enter a valid number.\")\n",
    "\n",
    "def main():\n",
    "    tasks = []\n",
    "    while True:\n",
    "        display_menu()\n",
    "        choice = input(\"Enter your choice: \")\n",
    "        if choice == \"1\":\n",
    "            add_task(tasks)\n",
    "        elif choice == \"2\":\n",
    "            view_tasks(tasks)\n",
    "        elif choice == \"3\":\n",
    "            delete_task(tasks)\n",
    "        elif choice == \"4\":\n",
    "            mark_task_completed(tasks)\n",
    "        elif choice == \"5\":\n",
    "            print(\"Exiting To-Do List.\")\n",
    "            sys.exit()\n",
    "        else:\n",
    "            print(\"Invalid choice. Please try again.\")\n",
    "\n",
    "if __name__ == \"__main__\":\n",
    "    main()\n"
   ]
  },
  {
   "cell_type": "code",
   "execution_count": null,
   "id": "bad24849-bafb-438f-90a6-09cb6b85859f",
   "metadata": {},
   "outputs": [],
   "source": []
  }
 ],
 "metadata": {
  "kernelspec": {
   "display_name": "Python 3 (ipykernel)",
   "language": "python",
   "name": "python3"
  },
  "language_info": {
   "codemirror_mode": {
    "name": "ipython",
    "version": 3
   },
   "file_extension": ".py",
   "mimetype": "text/x-python",
   "name": "python",
   "nbconvert_exporter": "python",
   "pygments_lexer": "ipython3",
   "version": "3.13.2"
  }
 },
 "nbformat": 4,
 "nbformat_minor": 5
}
